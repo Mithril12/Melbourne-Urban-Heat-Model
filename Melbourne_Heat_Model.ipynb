{
 "cells": [
  {
   "cell_type": "markdown",
   "id": "8f433996",
   "metadata": {},
   "source": [
    "# Melbourne Urban Heat Model\n",
    "This notebook predicts surface temperatures across Melbourne suburbs based on NDVI, impervious surface %, building density, and land use."
   ]
  },
  {
   "cell_type": "code",
   "execution_count": null,
   "id": "1ea00c81",
   "metadata": {},
   "outputs": [],
   "source": [
    "import pandas as pd\n",
    "import numpy as np\n",
    "import matplotlib.pyplot as plt\n",
    "import geopandas as gpd\n",
    "from shapely.geometry import Point\n",
    "from sklearn.ensemble import RandomForestRegressor\n",
    "from sklearn.model_selection import train_test_split"
   ]
  },
  {
   "cell_type": "code",
   "execution_count": null,
   "id": "2538291b",
   "metadata": {},
   "outputs": [],
   "source": [
    "# Load the dataset\n",
    "df = pd.read_csv(\"melbourne_heat_model.csv\")\n",
    "df[\"geometry\"] = [Point(xy) for xy in zip(df[\"Longitude\"], df[\"Latitude\"])]\n",
    "gdf = gpd.GeoDataFrame(df, geometry=\"geometry\", crs=\"EPSG:4326\")\n",
    "df.head()"
   ]
  },
  {
   "cell_type": "code",
   "execution_count": null,
   "id": "f9493145",
   "metadata": {},
   "outputs": [],
   "source": [
    "# Train model\n",
    "features = [\"ndvi\", \"impervious_surface_pct\", \"building_density\", \"land_use_type\"]\n",
    "X = df[features]\n",
    "y = df[\"surface_temp_C\"]\n",
    "\n",
    "model = RandomForestRegressor(n_estimators=100, random_state=42)\n",
    "model.fit(X, y)\n",
    "df[\"predicted_temp_C\"] = model.predict(X)"
   ]
  },
  {
   "cell_type": "code",
   "execution_count": null,
   "id": "13d02ad7",
   "metadata": {},
   "outputs": [],
   "source": [
    "# Plot map\n",
    "fig, ax = plt.subplots(figsize=(10, 8))\n",
    "gdf[\"predicted_temp_C\"] = df[\"predicted_temp_C\"]\n",
    "gdf.plot(column=\"predicted_temp_C\", ax=ax, legend=True, cmap=\"inferno\", edgecolor=\"black\", markersize=100)\n",
    "\n",
    "for x, y, label in zip(gdf.geometry.x, gdf.geometry.y, gdf[\"Suburb\"]):\n",
    "    ax.text(x + 0.005, y, label, fontsize=9)\n",
    "\n",
    "plt.title(\"Predicted Urban Surface Temperature by Suburb – Melbourne\")\n",
    "plt.xlabel(\"Longitude\")\n",
    "plt.ylabel(\"Latitude\")\n",
    "plt.grid(True)\n",
    "plt.tight_layout()\n",
    "plt.show()"
   ]
  }
 ],
 "metadata": {},
 "nbformat": 4,
 "nbformat_minor": 5
}